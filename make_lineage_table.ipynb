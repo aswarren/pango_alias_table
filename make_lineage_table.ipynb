{
 "cells": [
  {
   "cell_type": "code",
   "execution_count": 1,
   "metadata": {},
   "outputs": [
    {
     "name": "stdout",
     "output_type": "stream",
     "text": [
      "Collecting git+https://github.com/aswarren/pango_aliasor\n",
      "  Cloning https://github.com/aswarren/pango_aliasor to /private/var/folders/pq/2t2l79812g3fsrtcvgbf15580000gq/T/pip-req-build-tdobemsp\n",
      "  Running command git clone --filter=blob:none --quiet https://github.com/aswarren/pango_aliasor /private/var/folders/pq/2t2l79812g3fsrtcvgbf15580000gq/T/pip-req-build-tdobemsp\n",
      "  Resolved https://github.com/aswarren/pango_aliasor to commit 2f2c380caae73e84c3a9be9c712a30a5fd306acc\n",
      "  Installing build dependencies ... \u001b[?25ldone\n",
      "\u001b[?25h  Getting requirements to build wheel ... \u001b[?25ldone\n",
      "\u001b[?25h  Installing backend dependencies ... \u001b[?25ldone\n",
      "\u001b[?25h  Preparing metadata (pyproject.toml) ... \u001b[?25ldone\n",
      "\u001b[?25hBuilding wheels for collected packages: pango-aliasor\n",
      "  Building wheel for pango-aliasor (pyproject.toml) ... \u001b[?25ldone\n",
      "\u001b[?25h  Created wheel for pango-aliasor: filename=pango_aliasor-0.3.0-py3-none-any.whl size=5493 sha256=6f91708b71c5e034fd87b4556ee464bf58e03dbdbf14ce317b5c74adf2eb5e54\n",
      "  Stored in directory: /private/var/folders/pq/2t2l79812g3fsrtcvgbf15580000gq/T/pip-ephem-wheel-cache-t7vtwsru/wheels/11/9a/d6/afcb16bf7102886729d4697afbc168b2daa0a23d9b718935d3\n",
      "Successfully built pango-aliasor\n",
      "Installing collected packages: pango-aliasor\n",
      "  Attempting uninstall: pango-aliasor\n",
      "    Found existing installation: pango-aliasor 0.3.0\n",
      "    Uninstalling pango-aliasor-0.3.0:\n",
      "      Successfully uninstalled pango-aliasor-0.3.0\n",
      "Successfully installed pango-aliasor-0.3.0\n",
      "Note: you may need to restart the kernel to use updated packages.\n"
     ]
    }
   ],
   "source": [
    "pip install git+https://github.com/aswarren/pango_aliasor\n",
    "#or you can do the following \n",
    "#git clone git@github.com:aswarren/pango_aliasor.git\n",
    "#chdir pango_aliasor\n",
    "#pip install -e ./"
   ]
  },
  {
   "cell_type": "code",
   "execution_count": 2,
   "metadata": {},
   "outputs": [],
   "source": [
    "import pandas as pd\n",
    "import re"
   ]
  },
  {
   "cell_type": "code",
   "execution_count": 8,
   "metadata": {},
   "outputs": [
    {
     "name": "stdout",
     "output_type": "stream",
     "text": [
      "['B.1.167.2', 'B.1', 'B.1.1.524', 'B.1.1.529', 'B.1.1.7', 'B.1.351', 'B.1.36', 'B.1.36.8', 'B.1.409', 'B.1.413', 'B.1.427', 'B.1.429', 'B.1.525', 'B.1.526', 'B.1.543', 'B.1.551', 'B.1.555', 'B.1.568', 'B.1.575', 'B.1.582', 'B.1.595', 'B.1.605', 'B.1.609', 'B.1.617.1', 'B.1.617.2', 'B.1.617.3', 'B.1.621', 'BA.1.1', 'BA.2', 'BA.2.75', 'BA.2.75.2', 'BA.4', 'BA.4.6', 'BA.5', 'BA.5.2.6', 'BF.11', 'BF.7', 'BA.2.12.1', 'BN.1', 'BQ.1', 'BQ.1.1', 'XBB.1.9.2', 'XBB.1.5', 'BA.5.3', 'XBB.1.5.46.1', 'XBB.2.3.10.1', 'XBB.1.5.24.1', 'XBB.2.3.3.1.1', 'XBB.2.3.3.2', 'XBB.1.5.42.1', 'XBB.1.5.41.1', 'XBB.1.16', 'P.1', 'P.2', 'FE.1', 'XBB.1.5.1', 'XBB.1.9.1']\n"
     ]
    }
   ],
   "source": [
    "''' #example get excel aliases\n",
    "df = pd.read_excel(\"~/Documents/cv19_general/lineage_massage/Variant classification.xlsx\")\n",
    "df.head()\n",
    "df['Sub lineage/Alias'].unique()\n",
    "#Vinod example. get rid of labels that aren't pango lineages\n",
    "pattern = re.compile(r'^[\\w.]+$')\n",
    "pattern = re.compile(r'^(?=.*\\.)[\\w.]+$')\n",
    "labels=list(df['Sub lineage/Alias'].unique())\n",
    "labels = list(map(str, labels))\n",
    "alias_list=list(filter(pattern.match, labels))\n",
    "print(alias_list) '''"
   ]
  },
  {
   "cell_type": "code",
   "execution_count": 3,
   "metadata": {},
   "outputs": [],
   "source": [
    "#this list is from the excel sheet. It is the list of variants that you wish to have all subvariants listed as in the alias column\n",
    "alias_list=['B.1.167.2', 'B.1', 'B.1.1.524', 'B.1.1.529', 'B.1.1.7', 'B.1.351', 'B.1.36', 'B.1.36.8', 'B.1.409', 'B.1.413', 'B.1.427', 'B.1.429', 'B.1.525', 'B.1.526', 'B.1.543', 'B.1.551', 'B.1.555', 'B.1.568', 'B.1.575', 'B.1.582', 'B.1.595', 'B.1.605', 'B.1.609', 'B.1.617.1', 'B.1.617.2', 'B.1.617.3', 'B.1.621', 'BA.1.1', 'BA.2', 'BA.2.75', 'BA.2.75.2', 'BA.4', 'BA.4.6', 'BA.5', 'BA.5.2.6', 'BF.11', 'BF.7', 'BA.2.12.1', 'BN.1', 'BQ.1', 'BQ.1.1', 'XBB.1.9.2', 'XBB.1.5', 'BA.5.3', 'XBB.1.5.46.1', 'XBB.2.3.10.1', 'XBB.1.5.24.1', 'XBB.2.3.3.1.1', 'XBB.2.3.3.2', 'XBB.1.5.42.1', 'XBB.1.5.41.1', 'XBB.1.16', 'P.1', 'P.2', 'FE.1', 'XBB.1.5.1', 'XBB.1.9.1']\n"
   ]
  },
  {
   "cell_type": "code",
   "execution_count": 4,
   "metadata": {},
   "outputs": [],
   "source": [
    "from pango_aliasor.aliasor import Aliasor\n",
    "from typing import List, Dict\n",
    "#of the variants in base_variants make a dictionary of all the subvariants that point to them\n",
    "def make_variant_base_map(base_variants: List[str], recombinant=False) -> Dict[str, str]:\n",
    "    namer = Aliasor()\n",
    "    namer.enable_expansion()\n",
    "    all_rules = namer.partition_focus(base_variants, recombinant=True)\n",
    "    lineage_base_map = {k: v for v, ks in all_rules.items() for k in ks}\n",
    "    \n",
    "    for b in base_variants:\n",
    "        if b not in lineage_base_map:\n",
    "            lineage_base_map[b] = b\n",
    "            \n",
    "    return lineage_base_map"
   ]
  },
  {
   "cell_type": "code",
   "execution_count": 11,
   "metadata": {},
   "outputs": [],
   "source": [
    "replace_map = make_variant_base_map(alias_list)\n",
    "namer = Aliasor()\n",
    "namer.enable_expansion()\n",
    "#compressed_names=list(map(namer.compress, namer.pango_list))\n",
    "#pango_notes = {}\n",
    "import urllib.request\n",
    "new_table=None\n",
    "with urllib.request.urlopen(\n",
    "    \"https://raw.githubusercontent.com/cov-lineages/pango-designation/master/lineage_notes.txt\"\n",
    ") as data:\n",
    "\n",
    "    new_table=pd.read_csv(data, sep=\"\\t\")\n",
    "    #rename columns to lineage and notes\n",
    "    new_table.columns = ['lineage', 'notes']\n"
   ]
  },
  {
   "cell_type": "code",
   "execution_count": 13,
   "metadata": {},
   "outputs": [
    {
     "name": "stdout",
     "output_type": "stream",
     "text": [
      "4031\n"
     ]
    },
    {
     "data": {
      "text/html": [
       "<div>\n",
       "<style scoped>\n",
       "    .dataframe tbody tr th:only-of-type {\n",
       "        vertical-align: middle;\n",
       "    }\n",
       "\n",
       "    .dataframe tbody tr th {\n",
       "        vertical-align: top;\n",
       "    }\n",
       "\n",
       "    .dataframe thead th {\n",
       "        text-align: right;\n",
       "    }\n",
       "</style>\n",
       "<table border=\"1\" class=\"dataframe\">\n",
       "  <thead>\n",
       "    <tr style=\"text-align: right;\">\n",
       "      <th></th>\n",
       "      <th>lineage</th>\n",
       "      <th>notes</th>\n",
       "    </tr>\n",
       "  </thead>\n",
       "  <tbody>\n",
       "    <tr>\n",
       "      <th>0</th>\n",
       "      <td>A</td>\n",
       "      <td>One of the two original haplotypes of the pand...</td>\n",
       "    </tr>\n",
       "    <tr>\n",
       "      <th>1</th>\n",
       "      <td>A.1</td>\n",
       "      <td>USA lineage</td>\n",
       "    </tr>\n",
       "    <tr>\n",
       "      <th>2</th>\n",
       "      <td>A.2</td>\n",
       "      <td>Mostly Spanish lineage now includes South and ...</td>\n",
       "    </tr>\n",
       "    <tr>\n",
       "      <th>3</th>\n",
       "      <td>A.2.2</td>\n",
       "      <td>Australian lineage</td>\n",
       "    </tr>\n",
       "    <tr>\n",
       "      <th>4</th>\n",
       "      <td>A.2.3</td>\n",
       "      <td>Scottish lineage</td>\n",
       "    </tr>\n",
       "  </tbody>\n",
       "</table>\n",
       "</div>"
      ],
      "text/plain": [
       "  lineage                                              notes\n",
       "0       A  One of the two original haplotypes of the pand...\n",
       "1     A.1                                        USA lineage\n",
       "2     A.2  Mostly Spanish lineage now includes South and ...\n",
       "3   A.2.2                                 Australian lineage\n",
       "4   A.2.3                                   Scottish lineage"
      ]
     },
     "execution_count": 13,
     "metadata": {},
     "output_type": "execute_result"
    }
   ],
   "source": [
    "print(len(new_table))\n",
    "new_table.head()"
   ]
  },
  {
   "cell_type": "code",
   "execution_count": 14,
   "metadata": {},
   "outputs": [],
   "source": [
    "#new table with your aliases\n",
    "#new_table=pd.DataFrame(compressed_names, columns=['lineage'])\n",
    "new_table['alias']=new_table['lineage'].map(replace_map)\n",
    "#where the alias is None use the same value as the lineage\n",
    "new_table['alias']=new_table['alias'].fillna(new_table['lineage'])\n",
    "pango_to_voc = {\n",
    "\"B.1.1.7\": \"Alpha\",\n",
    "\"B.1.351\": \"Beta\",\n",
    "\"P.1\": \"Gamma\",\n",
    "\"B.1.617.2\": \"Delta\",\n",
    "\"B.1.1.529\": \"Omicron\"\n",
    "}\n",
    "replace_map2 = make_variant_base_map(list(pango_to_voc.keys()), recombinant=True)\n",
    "new_table['pango_voc']=new_table['lineage'].map(replace_map2)\n",
    "new_table['voc']=new_table['pango_voc'].map(pango_to_voc)\n",
    "#new_table['notes']=new_table['lineage'].map(pango_notes)\n",
    "\n",
    "#drop rows where the lineage name starts with * since they are withdrawn\n",
    "new_table=new_table[~new_table['lineage'].str.startswith('*')]\n",
    "\n"
   ]
  },
  {
   "cell_type": "code",
   "execution_count": 15,
   "metadata": {},
   "outputs": [],
   "source": [
    "new_table.to_csv(\"~/Documents/cv19_general/lineage_massage/lineage_aliases_table.csv\")\n",
    "#vinod example stop here"
   ]
  },
  {
   "cell_type": "code",
   "execution_count": 9,
   "metadata": {},
   "outputs": [
    {
     "data": {
      "text/html": [
       "<div>\n",
       "<style scoped>\n",
       "    .dataframe tbody tr th:only-of-type {\n",
       "        vertical-align: middle;\n",
       "    }\n",
       "\n",
       "    .dataframe tbody tr th {\n",
       "        vertical-align: top;\n",
       "    }\n",
       "\n",
       "    .dataframe thead th {\n",
       "        text-align: right;\n",
       "    }\n",
       "</style>\n",
       "<table border=\"1\" class=\"dataframe\">\n",
       "  <thead>\n",
       "    <tr style=\"text-align: right;\">\n",
       "      <th></th>\n",
       "      <th>lineage</th>\n",
       "      <th>notes</th>\n",
       "      <th>alias</th>\n",
       "      <th>pango_voc</th>\n",
       "      <th>voc</th>\n",
       "    </tr>\n",
       "  </thead>\n",
       "  <tbody>\n",
       "    <tr>\n",
       "      <th>653</th>\n",
       "      <td>BA.2</td>\n",
       "      <td>Alias of B.1.1.529.2, from #361</td>\n",
       "      <td>BA.2</td>\n",
       "      <td>B.1.1.529</td>\n",
       "      <td>Omicron</td>\n",
       "    </tr>\n",
       "    <tr>\n",
       "      <th>654</th>\n",
       "      <td>BA.2.1</td>\n",
       "      <td>Alias of B.1.1.529.2.1, UK lineage</td>\n",
       "      <td>BA.2</td>\n",
       "      <td>B.1.1.529</td>\n",
       "      <td>Omicron</td>\n",
       "    </tr>\n",
       "    <tr>\n",
       "      <th>655</th>\n",
       "      <td>BA.2.2</td>\n",
       "      <td>Alias of B.1.1.529.2.2, Hong Kong lineage, fro...</td>\n",
       "      <td>BA.2</td>\n",
       "      <td>B.1.1.529</td>\n",
       "      <td>Omicron</td>\n",
       "    </tr>\n",
       "    <tr>\n",
       "      <th>656</th>\n",
       "      <td>BA.2.2.1</td>\n",
       "      <td>Alias of B.1.1.529.2.2.1, China lineage, from ...</td>\n",
       "      <td>BA.2</td>\n",
       "      <td>B.1.1.529</td>\n",
       "      <td>Omicron</td>\n",
       "    </tr>\n",
       "    <tr>\n",
       "      <th>657</th>\n",
       "      <td>BA.2.3</td>\n",
       "      <td>Alias of B.1.1.529.2.3, lineage in Philippines...</td>\n",
       "      <td>BA.2</td>\n",
       "      <td>B.1.1.529</td>\n",
       "      <td>Omicron</td>\n",
       "    </tr>\n",
       "    <tr>\n",
       "      <th>...</th>\n",
       "      <td>...</td>\n",
       "      <td>...</td>\n",
       "      <td>...</td>\n",
       "      <td>...</td>\n",
       "      <td>...</td>\n",
       "    </tr>\n",
       "    <tr>\n",
       "      <th>3649</th>\n",
       "      <td>XBC.1.7</td>\n",
       "      <td>S:478R, S:444T, Philippines/Australia/Hong Kong</td>\n",
       "      <td>BA.2</td>\n",
       "      <td>B.1.1.529</td>\n",
       "      <td>Omicron</td>\n",
       "    </tr>\n",
       "    <tr>\n",
       "      <th>3650</th>\n",
       "      <td>XBC.1.7.1</td>\n",
       "      <td>S:N185S, Philiippines</td>\n",
       "      <td>BA.2</td>\n",
       "      <td>B.1.1.529</td>\n",
       "      <td>Omicron</td>\n",
       "    </tr>\n",
       "    <tr>\n",
       "      <th>3651</th>\n",
       "      <td>XBC.1.7.2</td>\n",
       "      <td>S:T299I, Australia</td>\n",
       "      <td>BA.2</td>\n",
       "      <td>B.1.1.529</td>\n",
       "      <td>Omicron</td>\n",
       "    </tr>\n",
       "    <tr>\n",
       "      <th>3652</th>\n",
       "      <td>XBC.2</td>\n",
       "      <td>Mostly Philippines, defined by S:K97R</td>\n",
       "      <td>BA.2</td>\n",
       "      <td>B.1.1.529</td>\n",
       "      <td>Omicron</td>\n",
       "    </tr>\n",
       "    <tr>\n",
       "      <th>3653</th>\n",
       "      <td>XBC.2.1</td>\n",
       "      <td>S:K444T, Australia, from #1538</td>\n",
       "      <td>BA.2</td>\n",
       "      <td>B.1.1.529</td>\n",
       "      <td>Omicron</td>\n",
       "    </tr>\n",
       "  </tbody>\n",
       "</table>\n",
       "<p>272 rows × 5 columns</p>\n",
       "</div>"
      ],
      "text/plain": [
       "        lineage                                              notes alias  \\\n",
       "653        BA.2                    Alias of B.1.1.529.2, from #361  BA.2   \n",
       "654      BA.2.1                 Alias of B.1.1.529.2.1, UK lineage  BA.2   \n",
       "655      BA.2.2  Alias of B.1.1.529.2.2, Hong Kong lineage, fro...  BA.2   \n",
       "656    BA.2.2.1  Alias of B.1.1.529.2.2.1, China lineage, from ...  BA.2   \n",
       "657      BA.2.3  Alias of B.1.1.529.2.3, lineage in Philippines...  BA.2   \n",
       "...         ...                                                ...   ...   \n",
       "3649    XBC.1.7    S:478R, S:444T, Philippines/Australia/Hong Kong  BA.2   \n",
       "3650  XBC.1.7.1                              S:N185S, Philiippines  BA.2   \n",
       "3651  XBC.1.7.2                                 S:T299I, Australia  BA.2   \n",
       "3652      XBC.2              Mostly Philippines, defined by S:K97R  BA.2   \n",
       "3653    XBC.2.1                     S:K444T, Australia, from #1538  BA.2   \n",
       "\n",
       "      pango_voc      voc  \n",
       "653   B.1.1.529  Omicron  \n",
       "654   B.1.1.529  Omicron  \n",
       "655   B.1.1.529  Omicron  \n",
       "656   B.1.1.529  Omicron  \n",
       "657   B.1.1.529  Omicron  \n",
       "...         ...      ...  \n",
       "3649  B.1.1.529  Omicron  \n",
       "3650  B.1.1.529  Omicron  \n",
       "3651  B.1.1.529  Omicron  \n",
       "3652  B.1.1.529  Omicron  \n",
       "3653  B.1.1.529  Omicron  \n",
       "\n",
       "[272 rows x 5 columns]"
      ]
     },
     "execution_count": 9,
     "metadata": {},
     "output_type": "execute_result"
    }
   ],
   "source": [
    "#select rows that have an alias of BA.2\n",
    "new_table[new_table['alias']=='BA.2']"
   ]
  },
  {
   "cell_type": "code",
   "execution_count": null,
   "metadata": {},
   "outputs": [],
   "source": []
  }
 ],
 "metadata": {
  "kernelspec": {
   "display_name": "Python 3 (ipykernel)",
   "language": "python",
   "name": "python3"
  },
  "language_info": {
   "codemirror_mode": {
    "name": "ipython",
    "version": 3
   },
   "file_extension": ".py",
   "mimetype": "text/x-python",
   "name": "python",
   "nbconvert_exporter": "python",
   "pygments_lexer": "ipython3",
   "version": "3.10.9"
  }
 },
 "nbformat": 4,
 "nbformat_minor": 2
}
